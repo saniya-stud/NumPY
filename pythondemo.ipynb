{
  "nbformat": 4,
  "nbformat_minor": 0,
  "metadata": {
    "colab": {
      "provenance": [],
      "authorship_tag": "ABX9TyOd8SDqw37sQt/LJicMijJX",
      "include_colab_link": true
    },
    "kernelspec": {
      "name": "python3",
      "display_name": "Python 3"
    },
    "language_info": {
      "name": "python"
    }
  },
  "cells": [
    {
      "cell_type": "markdown",
      "metadata": {
        "id": "view-in-github",
        "colab_type": "text"
      },
      "source": [
        "<a href=\"https://colab.research.google.com/github/saniya-stud/NumPY/blob/main/pythondemo.ipynb\" target=\"_parent\"><img src=\"https://colab.research.google.com/assets/colab-badge.svg\" alt=\"Open In Colab\"/></a>"
      ]
    },
    {
      "cell_type": "code",
      "execution_count": 20,
      "metadata": {
        "colab": {
          "base_uri": "https://localhost:8080/"
        },
        "id": "rSztQ1x5SpuB",
        "outputId": "472e0d26-8d76-4588-b814-327cf54e6fa7"
      },
      "outputs": [
        {
          "output_type": "stream",
          "name": "stdout",
          "text": [
            "[1 2 3]\n",
            "[[3. 4. 5.]\n",
            " [9. 8. 1.]]\n"
          ]
        },
        {
          "output_type": "execute_result",
          "data": {
            "text/plain": [
              "12"
            ]
          },
          "metadata": {},
          "execution_count": 20
        }
      ],
      "source": [
        "import numpy as np\n",
        "a=np.array([1,2,3],dtype='int32')\n",
        "print(a)\n",
        "b=np.array([[3.0,4.0,5.0],[9.0,8.0,1.0]])\n",
        "print(b)\n",
        "\n",
        "#getshape\n",
        "a.ndim\n",
        "b.ndim\n",
        "#getshape\n",
        "a.shape #it says 3\n",
        "b.shape\n",
        "#it says 2/3 matrix\n",
        "\n",
        "\n",
        "#type\n",
        "a.dtype\n",
        "b.dtype\n",
        "\n",
        "#size(no of bits in a data type)\n",
        "a.itemsize #if int16 itemsize=2,if int32 itemsize=4\n",
        "b.itemsize\n",
        "#total size\n",
        "a.size*a.itemsize\n",
        "a.nbytes\n",
        "\n"
      ]
    },
    {
      "cell_type": "code",
      "source": [
        "a=np.array([[1,2,3,4,5],[6,7,8,9,10]])\n",
        "print(a)\n",
        "\n",
        "a[1,2]\n",
        "a[:,1]#specific column\n",
        "\n",
        "a[1,:]#specific row\n",
        "\n",
        "a[0,1:-1:2]\n"
      ],
      "metadata": {
        "colab": {
          "base_uri": "https://localhost:8080/"
        },
        "id": "p9XMRFyIfKtc",
        "outputId": "179c4824-413b-435d-d802-313e196a9ade"
      },
      "execution_count": 26,
      "outputs": [
        {
          "output_type": "stream",
          "name": "stdout",
          "text": [
            "[[ 1  2  3  4  5]\n",
            " [ 6  7  8  9 10]]\n"
          ]
        },
        {
          "output_type": "execute_result",
          "data": {
            "text/plain": [
              "array([2, 4])"
            ]
          },
          "metadata": {},
          "execution_count": 26
        }
      ]
    },
    {
      "cell_type": "code",
      "source": [
        "a[1,2]=20\n",
        "print(a)\n",
        "\n",
        "a[:,2]=[1,2]\n",
        "print(a)\n"
      ],
      "metadata": {
        "colab": {
          "base_uri": "https://localhost:8080/"
        },
        "id": "1HEuQzSzjPtp",
        "outputId": "5e065987-a19f-4c23-d1cd-de1de48111e6"
      },
      "execution_count": 35,
      "outputs": [
        {
          "output_type": "stream",
          "name": "stdout",
          "text": [
            "[[ 1  2  3  4  5]\n",
            " [ 6  7 20  9 10]]\n",
            "[[ 1  2  1  4  5]\n",
            " [ 6  7  2  9 10]]\n"
          ]
        }
      ]
    },
    {
      "cell_type": "code",
      "source": [
        "a[0,0:5:2]"
      ],
      "metadata": {
        "colab": {
          "base_uri": "https://localhost:8080/"
        },
        "id": "wgh73DfGjYHm",
        "outputId": "8bda9033-0a4a-43bd-f4f4-54f346233a9d"
      },
      "execution_count": 33,
      "outputs": [
        {
          "output_type": "execute_result",
          "data": {
            "text/plain": [
              "array([1, 3, 5])"
            ]
          },
          "metadata": {},
          "execution_count": 33
        }
      ]
    },
    {
      "cell_type": "code",
      "source": [
        "a=np.array([[[1,2,3],[4,5,6]],[[7,8,9],[2,5,6]]])\n",
        "print(a)\n",
        "a[1,:,2] #2nd bracket,all rows,2nd column(1.9)\n",
        "a[0,0,:] #(1,2,3) all in row\n",
        "a[0,:,0] #all in column (1,4)\n",
        "a[:,0,1]"
      ],
      "metadata": {
        "colab": {
          "base_uri": "https://localhost:8080/"
        },
        "id": "2Yoy4A2QjX6v",
        "outputId": "871cf829-bc66-4ddf-e42d-bd39cbf0f67a"
      },
      "execution_count": 43,
      "outputs": [
        {
          "output_type": "stream",
          "name": "stdout",
          "text": [
            "[[[1 2 3]\n",
            "  [4 5 6]]\n",
            "\n",
            " [[7 8 9]\n",
            "  [2 5 6]]]\n"
          ]
        },
        {
          "output_type": "execute_result",
          "data": {
            "text/plain": [
              "array([2, 8])"
            ]
          },
          "metadata": {},
          "execution_count": 43
        }
      ]
    },
    {
      "cell_type": "code",
      "source": [
        "#initializing types of arrays\n",
        "np.zeros((2,3))\n",
        "np.ones((4,1,2),dtype=\"int32\")\n",
        "\n",
        "\n"
      ],
      "metadata": {
        "colab": {
          "base_uri": "https://localhost:8080/"
        },
        "id": "07xnrGFUjXvX",
        "outputId": "3322e37b-88d2-4aea-c03f-e1ff0849cd8f"
      },
      "execution_count": 52,
      "outputs": [
        {
          "output_type": "execute_result",
          "data": {
            "text/plain": [
              "array([[[1, 1]],\n",
              "\n",
              "       [[1, 1]],\n",
              "\n",
              "       [[1, 1]],\n",
              "\n",
              "       [[1, 1]]], dtype=int32)"
            ]
          },
          "metadata": {},
          "execution_count": 52
        }
      ]
    },
    {
      "cell_type": "code",
      "source": [
        "np.full((3,2),99)"
      ],
      "metadata": {
        "colab": {
          "base_uri": "https://localhost:8080/"
        },
        "id": "EyDegI1dpGjr",
        "outputId": "5839da90-e773-42d1-e228-c599df707235"
      },
      "execution_count": 54,
      "outputs": [
        {
          "output_type": "execute_result",
          "data": {
            "text/plain": [
              "array([[99, 99],\n",
              "       [99, 99],\n",
              "       [99, 99]])"
            ]
          },
          "metadata": {},
          "execution_count": 54
        }
      ]
    },
    {
      "cell_type": "code",
      "source": [
        "\n",
        "np.full_like(a,3) #||np,full(a.shape,3)\n",
        "#created 3/3 because a is also 3/3 before"
      ],
      "metadata": {
        "colab": {
          "base_uri": "https://localhost:8080/"
        },
        "id": "y0VPxqcxpQ_H",
        "outputId": "fbbba5c1-0f4b-4431-98b7-61774a839478"
      },
      "execution_count": 55,
      "outputs": [
        {
          "output_type": "execute_result",
          "data": {
            "text/plain": [
              "array([[[3, 3, 3],\n",
              "        [3, 3, 3]],\n",
              "\n",
              "       [[3, 3, 3],\n",
              "        [3, 3, 3]]])"
            ]
          },
          "metadata": {},
          "execution_count": 55
        }
      ]
    },
    {
      "cell_type": "code",
      "source": [
        "np.random.rand(1,2)"
      ],
      "metadata": {
        "colab": {
          "base_uri": "https://localhost:8080/"
        },
        "id": "NL8W0Z6rqvDf",
        "outputId": "889fd5a3-6b94-4a65-f77a-0b73ef28d47d"
      },
      "execution_count": 56,
      "outputs": [
        {
          "output_type": "execute_result",
          "data": {
            "text/plain": [
              "array([[0.97721396, 0.61759024]])"
            ]
          },
          "metadata": {},
          "execution_count": 56
        }
      ]
    },
    {
      "cell_type": "code",
      "source": [
        "#repeats an array\n",
        "arr=np.array([[1,2,3]])\n",
        "r1=np.repeat(arr,3,axis=0)\n",
        "print(r1)"
      ],
      "metadata": {
        "colab": {
          "base_uri": "https://localhost:8080/"
        },
        "id": "ICWkx_9nszhX",
        "outputId": "52b640f2-9981-4fc7-b939-e4561ee35165"
      },
      "execution_count": 62,
      "outputs": [
        {
          "output_type": "stream",
          "name": "stdout",
          "text": [
            "[[1 2 3]\n",
            " [1 2 3]\n",
            " [1 2 3]]\n"
          ]
        }
      ]
    },
    {
      "cell_type": "code",
      "source": [
        "output=np.ones((5,5))\n",
        "print(output)\n",
        "\n",
        "z=np.zeros((3,3))\n",
        "\n",
        "z[1,1]=9\n",
        "print(z)\n",
        "\n",
        "output[1:-1,1:-1]=z #copying z into op\n",
        "print(output)\n"
      ],
      "metadata": {
        "colab": {
          "base_uri": "https://localhost:8080/"
        },
        "id": "7-7btnT0uWQg",
        "outputId": "cc710f71-ce77-41c0-e102-47ee7c085e73"
      },
      "execution_count": 70,
      "outputs": [
        {
          "output_type": "stream",
          "name": "stdout",
          "text": [
            "[[1. 1. 1. 1. 1.]\n",
            " [1. 1. 1. 1. 1.]\n",
            " [1. 1. 1. 1. 1.]\n",
            " [1. 1. 1. 1. 1.]\n",
            " [1. 1. 1. 1. 1.]]\n",
            "[[0. 0. 0.]\n",
            " [0. 9. 0.]\n",
            " [0. 0. 0.]]\n",
            "[[1. 1. 1. 1. 1.]\n",
            " [1. 0. 0. 0. 1.]\n",
            " [1. 0. 9. 0. 1.]\n",
            " [1. 0. 0. 0. 1.]\n",
            " [1. 1. 1. 1. 1.]]\n"
          ]
        }
      ]
    },
    {
      "cell_type": "code",
      "source": [
        "#copying\n",
        "a=([1,2,3])\n",
        "#b=a\n",
        "b=a.copy()\n",
        "b[1]=300\n",
        "print(b)"
      ],
      "metadata": {
        "colab": {
          "base_uri": "https://localhost:8080/"
        },
        "id": "gPGyldY0vjUT",
        "outputId": "22d40b76-aaa4-491f-b42d-e19d80bd3873"
      },
      "execution_count": 73,
      "outputs": [
        {
          "output_type": "stream",
          "name": "stdout",
          "text": [
            "[1, 300, 3]\n"
          ]
        }
      ]
    },
    {
      "cell_type": "code",
      "source": [
        "np.random.rand(2,3)"
      ],
      "metadata": {
        "colab": {
          "base_uri": "https://localhost:8080/"
        },
        "id": "bmb4XA092LpB",
        "outputId": "6ff604b8-aeda-47d9-a9e1-3989b44adc6c"
      },
      "execution_count": 75,
      "outputs": [
        {
          "output_type": "execute_result",
          "data": {
            "text/plain": [
              "array([[0.5769029 , 0.70188972, 0.60419843],\n",
              "       [0.66465205, 0.96717237, 0.76160465]])"
            ]
          },
          "metadata": {},
          "execution_count": 75
        }
      ]
    },
    {
      "cell_type": "code",
      "source": [
        "np.random.randint(3,size=(3,3))"
      ],
      "metadata": {
        "colab": {
          "base_uri": "https://localhost:8080/"
        },
        "id": "vcaxZOTc2sAI",
        "outputId": "7aad657d-7037-46d3-cbe6-2445035f7731"
      },
      "execution_count": 79,
      "outputs": [
        {
          "output_type": "execute_result",
          "data": {
            "text/plain": [
              "array([[0, 2, 0],\n",
              "       [0, 2, 0],\n",
              "       [0, 2, 2]])"
            ]
          },
          "metadata": {},
          "execution_count": 79
        }
      ]
    },
    {
      "cell_type": "code",
      "source": [
        "arr=np.array([[1,2,3]])\n",
        "r1=np.repeat(arr,3,axis=0)\n",
        "r1"
      ],
      "metadata": {
        "colab": {
          "base_uri": "https://localhost:8080/"
        },
        "id": "IXbdt3tL3YdJ",
        "outputId": "42fc0f30-828c-4cf2-827b-2eb78a7ba28f"
      },
      "execution_count": 84,
      "outputs": [
        {
          "output_type": "execute_result",
          "data": {
            "text/plain": [
              "array([[1, 2, 3],\n",
              "       [1, 2, 3],\n",
              "       [1, 2, 3]])"
            ]
          },
          "metadata": {},
          "execution_count": 84
        }
      ]
    },
    {
      "cell_type": "code",
      "source": [
        "arr=np.identity(5)\n"
      ],
      "metadata": {
        "colab": {
          "base_uri": "https://localhost:8080/"
        },
        "id": "4W7PNEHS2r9f",
        "outputId": "5871a3de-6b60-4990-bf12-561e6f9a8c5c"
      },
      "execution_count": 80,
      "outputs": [
        {
          "output_type": "execute_result",
          "data": {
            "text/plain": [
              "array([[1., 0., 0., 0., 0.],\n",
              "       [0., 1., 0., 0., 0.],\n",
              "       [0., 0., 1., 0., 0.],\n",
              "       [0., 0., 0., 1., 0.],\n",
              "       [0., 0., 0., 0., 1.]])"
            ]
          },
          "metadata": {},
          "execution_count": 80
        }
      ]
    },
    {
      "cell_type": "code",
      "source": [
        "#maths\n",
        "a=np.array([1,2,3,4])\n",
        "a\n",
        "a+2\n",
        "a-3\n",
        "a/2\n",
        "a%2\n",
        "b=np.array([5,6,7,8])\n",
        "b+a\n",
        "b**3\n",
        "np.sin(a)\n",
        "np.cos(b)"
      ],
      "metadata": {
        "colab": {
          "base_uri": "https://localhost:8080/"
        },
        "id": "KTZcCN2w2r68",
        "outputId": "b27444a0-7355-4081-d7e0-3091090df24c"
      },
      "execution_count": 96,
      "outputs": [
        {
          "output_type": "execute_result",
          "data": {
            "text/plain": [
              "array([ 0.28366219,  0.96017029,  0.75390225, -0.14550003])"
            ]
          },
          "metadata": {},
          "execution_count": 96
        }
      ]
    },
    {
      "cell_type": "code",
      "source": [
        "#linear algebra\n",
        "a=np.ones((2,3))\n",
        "print(a)\n",
        "b=np.full((3,4),2)\n",
        "print(b)\n",
        "c=np.matmul(a,b)\n",
        "print(c)\n",
        "\n"
      ],
      "metadata": {
        "colab": {
          "base_uri": "https://localhost:8080/"
        },
        "id": "cnOeuzlg5IIp",
        "outputId": "c34136f6-d4e7-4e7b-9bbc-aee96edfa5c2"
      },
      "execution_count": 106,
      "outputs": [
        {
          "output_type": "stream",
          "name": "stdout",
          "text": [
            "[[1. 1. 1.]\n",
            " [1. 1. 1.]]\n",
            "[[2 2 2 2]\n",
            " [2 2 2 2]\n",
            " [2 2 2 2]]\n",
            "[[6. 6. 6. 6.]\n",
            " [6. 6. 6. 6.]]\n"
          ]
        }
      ]
    },
    {
      "cell_type": "code",
      "source": [
        "#determinant\n",
        "b=np.identity(3)\n",
        "np.linalg.det(b)"
      ],
      "metadata": {
        "colab": {
          "base_uri": "https://localhost:8080/"
        },
        "id": "MGoRqSSs2r4d",
        "outputId": "d54c24ad-c52c-4717-d99e-3e8243504da2"
      },
      "execution_count": 109,
      "outputs": [
        {
          "output_type": "execute_result",
          "data": {
            "text/plain": [
              "np.float64(1.0)"
            ]
          },
          "metadata": {},
          "execution_count": 109
        }
      ]
    },
    {
      "cell_type": "code",
      "source": [
        "#statistics\n",
        "stats=np.array([[1,2,3,4],[5,6,7,8]])\n",
        "print(stats)\n",
        "np.min(stats)\n",
        "np.max(stats)\n",
        "np.sum(stats)"
      ],
      "metadata": {
        "colab": {
          "base_uri": "https://localhost:8080/"
        },
        "id": "BZICVoJQ2r1u",
        "outputId": "d79f7959-bd69-4682-d752-d655339096d0"
      },
      "execution_count": 115,
      "outputs": [
        {
          "output_type": "stream",
          "name": "stdout",
          "text": [
            "[[1 2 3 4]\n",
            " [5 6 7 8]]\n"
          ]
        },
        {
          "output_type": "execute_result",
          "data": {
            "text/plain": [
              "np.int64(36)"
            ]
          },
          "metadata": {},
          "execution_count": 115
        }
      ]
    },
    {
      "cell_type": "code",
      "source": [
        "#reorganizing arrays\n",
        "before=np.array([[1,2,3,4],[5,6,7,8]])\n",
        "print(before)\n",
        "after=before.reshape((2,2,2))\n",
        "print(after)\n"
      ],
      "metadata": {
        "colab": {
          "base_uri": "https://localhost:8080/"
        },
        "id": "IsngLWqQ7LzA",
        "outputId": "7748ecbc-6e39-4fd6-b50c-e044d9c83bab"
      },
      "execution_count": 118,
      "outputs": [
        {
          "output_type": "stream",
          "name": "stdout",
          "text": [
            "[[1 2 3 4]\n",
            " [5 6 7 8]]\n",
            "[[[1 2]\n",
            "  [3 4]]\n",
            "\n",
            " [[5 6]\n",
            "  [7 8]]]\n"
          ]
        }
      ]
    },
    {
      "cell_type": "code",
      "source": [
        "#vertical stacking\n",
        "v1=np.array([1,2,3])\n",
        "v2=np.array([6,7,8])\n",
        "np.vstack([v1,v2,v1,v2])"
      ],
      "metadata": {
        "colab": {
          "base_uri": "https://localhost:8080/"
        },
        "id": "Yh9mOsdG8Ebk",
        "outputId": "170368f2-607d-4d26-dc0c-9ce70a129a03"
      },
      "execution_count": 120,
      "outputs": [
        {
          "output_type": "execute_result",
          "data": {
            "text/plain": [
              "array([[1, 2, 3],\n",
              "       [6, 7, 8],\n",
              "       [1, 2, 3],\n",
              "       [6, 7, 8]])"
            ]
          },
          "metadata": {},
          "execution_count": 120
        }
      ]
    },
    {
      "cell_type": "code",
      "source": [
        "#h stacking\n",
        "h1=np.array([1,2,3])\n",
        "h2=np.array([6,7,8])\n",
        "np.hstack([h1,h2])\n"
      ],
      "metadata": {
        "colab": {
          "base_uri": "https://localhost:8080/"
        },
        "id": "EhzPNyoH2ry8",
        "outputId": "47b37b09-ab9b-4819-87a6-209cf8fdbc48"
      },
      "execution_count": 122,
      "outputs": [
        {
          "output_type": "execute_result",
          "data": {
            "text/plain": [
              "array([1, 2, 3, 6, 7, 8])"
            ]
          },
          "metadata": {},
          "execution_count": 122
        }
      ]
    },
    {
      "cell_type": "code",
      "source": [],
      "metadata": {
        "id": "Bvp0fRaz7KSI"
      },
      "execution_count": null,
      "outputs": []
    },
    {
      "cell_type": "code",
      "source": [],
      "metadata": {
        "id": "y0j37BGg7KOx"
      },
      "execution_count": null,
      "outputs": []
    },
    {
      "cell_type": "code",
      "source": [],
      "metadata": {
        "id": "mcHzFJjk7KMQ"
      },
      "execution_count": null,
      "outputs": []
    }
  ]
}