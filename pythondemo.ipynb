{
  "nbformat": 4,
  "nbformat_minor": 0,
  "metadata": {
    "colab": {
      "provenance": [],
      "authorship_tag": "ABX9TyMhx2sni8huW3Isj8ULJ5f8",
      "include_colab_link": true
    },
    "kernelspec": {
      "name": "python3",
      "display_name": "Python 3"
    },
    "language_info": {
      "name": "python"
    }
  },
  "cells": [
    {
      "cell_type": "markdown",
      "metadata": {
        "id": "view-in-github",
        "colab_type": "text"
      },
      "source": [
        "<a href=\"https://colab.research.google.com/github/saniya-stud/NumPY/blob/main/pythondemo.ipynb\" target=\"_parent\"><img src=\"https://colab.research.google.com/assets/colab-badge.svg\" alt=\"Open In Colab\"/></a>"
      ]
    },
    {
      "cell_type": "code",
      "execution_count": null,
      "metadata": {
        "colab": {
          "base_uri": "https://localhost:8080/"
        },
        "id": "rSztQ1x5SpuB",
        "outputId": "472e0d26-8d76-4588-b814-327cf54e6fa7"
      },
      "outputs": [
        {
          "output_type": "stream",
          "name": "stdout",
          "text": [
            "[1 2 3]\n",
            "[[3. 4. 5.]\n",
            " [9. 8. 1.]]\n"
          ]
        },
        {
          "output_type": "execute_result",
          "data": {
            "text/plain": [
              "12"
            ]
          },
          "metadata": {},
          "execution_count": 20
        }
      ],
      "source": [
        "import numpy as np\n",
        "a=np.array([1,2,3],dtype='int32')\n",
        "print(a)\n",
        "b=np.array([[3.0,4.0,5.0],[9.0,8.0,1.0]])\n",
        "print(b)\n",
        "\n",
        "#getshape\n",
        "a.ndim\n",
        "b.ndim\n",
        "#getshape\n",
        "a.shape #it says 3\n",
        "b.shape\n",
        "#it says 2/3 matrix\n",
        "\n",
        "\n",
        "#type\n",
        "a.dtype\n",
        "b.dtype\n",
        "\n",
        "#size(no of bits in a data type)\n",
        "a.itemsize #if int16 itemsize=2,if int32 itemsize=4\n",
        "b.itemsize\n",
        "#total size\n",
        "a.size*a.itemsize\n",
        "a.nbytes\n",
        "\n"
      ]
    }
  ]
}